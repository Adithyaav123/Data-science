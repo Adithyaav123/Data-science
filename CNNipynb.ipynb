{
  "nbformat": 4,
  "nbformat_minor": 0,
  "metadata": {
    "colab": {
      "provenance": []
    },
    "kernelspec": {
      "name": "python3",
      "display_name": "Python 3"
    },
    "language_info": {
      "name": "python"
    },
    "accelerator": "GPU",
    "gpuClass": "standard"
  },
  "cells": [
    {
      "cell_type": "code",
      "execution_count": null,
      "metadata": {
        "colab": {
          "base_uri": "https://localhost:8080/",
          "height": 334
        },
        "id": "UKAdDM3nw6de",
        "outputId": "35419596-ef7a-4ac7-fbde-78c971877886"
      },
      "outputs": [
        {
          "output_type": "stream",
          "name": "stdout",
          "text": [
            "shape of x_train: (60000, 28, 28)\n",
            "shape of x_test: (10000, 28, 28)\n",
            "shape of y_train: (60000,)\n",
            "shape of y_test: (10000,)\n"
          ]
        },
        {
          "output_type": "display_data",
          "data": {
            "text/plain": [
              "<Figure size 432x288 with 1 Axes>"
            ],
            "image/png": "[encoded data removed]"
          },
          "metadata": {
            "needs_background": "light"
          }
        }
      ],
      "source": [
        "import numpy as np\n",
        "import pandas as pd\n",
        "import matplotlib.pyplot as plt\n",
        "\n",
        "import tensorflow as tf\n",
        "from tensorflow import keras\n",
        "\n",
        "mnistDB = keras.datasets.mnist\n",
        "(x_train,y_train),(x_test,y_test) = mnistDB.load_data()\n",
        "\n",
        "print(\"shape of x_train:\",x_train.shape)\n",
        "print(\"shape of x_test:\",x_test.shape)\n",
        "print(\"shape of y_train:\",y_train.shape)\n",
        "print(\"shape of y_test:\",y_test.shape)\n",
        "\n",
        "plt.imshow(x_train[0],cmap=\"binary\")\n",
        "\n",
        "x_train=x_train.reshape((60000,28,28,1))\n",
        "x_test=x_test.reshape((10000,28,28,1))\n",
        "\n",
        "x_train=x_train.astype('float32')/255\n",
        "x_test=x_test.astype('float32')/255\n",
        "\n",
        "\n",
        "cnnModel_MNIST=keras.models.Sequential()\n",
        "\n",
        "\n"
      ]
    },
    {
      "cell_type": "code",
      "source": [],
      "metadata": {
        "id": "Qd2kdf12FaEr"
      },
      "execution_count": null,
      "outputs": []
    },
    {
      "cell_type": "code",
      "source": [],
      "metadata": {
        "id": "acNmE2syXz5V"
      },
      "execution_count": null,
      "outputs": []
    },
    {
      "cell_type": "code",
      "source": [],
      "metadata": {
        "id": "m_ignwYXX2Cz"
      },
      "execution_count": null,
      "outputs": []
    },
    {
      "cell_type": "code",
      "source": [
        "cnnModel_MNIST.add(keras.layers.Conv2D(32,(3,3),activation=\"relu\",input_shape=x_train.shape[1:]))\n",
        "cnnModel_MNIST.add(keras.layers.Conv2D(64,(3,3),activation=\"relu\"))"
      ],
      "metadata": {
        "id": "FzDtc0ZI5RFN"
      },
      "execution_count": null,
      "outputs": []
    },
    {
      "cell_type": "code",
      "source": [
        "cnnModel_MNIST.add(keras.layers.MaxPooling2D((2,2)))"
      ],
      "metadata": {
        "id": "nP9p2ZD357nX"
      },
      "execution_count": null,
      "outputs": []
    },
    {
      "cell_type": "code",
      "source": [
        "cnnModel_MNIST.add(keras.layers.Dropout(0.25))"
      ],
      "metadata": {
        "id": "YKviFwCq6RKo"
      },
      "execution_count": null,
      "outputs": []
    },
    {
      "cell_type": "code",
      "source": [
        "cnnModel_MNIST.add(keras.layers.Flatten())"
      ],
      "metadata": {
        "id": "fKvEIjAt6agN"
      },
      "execution_count": null,
      "outputs": []
    },
    {
      "cell_type": "code",
      "source": [
        "cnnModel_MNIST.add(keras.layers.Dense(128,activation=\"relu\"))"
      ],
      "metadata": {
        "id": "cTA6aIv16m5b"
      },
      "execution_count": null,
      "outputs": []
    },
    {
      "cell_type": "code",
      "source": [
        "cnnModel_MNIST.add(keras.layers.Dropout(0.25))"
      ],
      "metadata": {
        "id": "fjkxdGBE7Qlu"
      },
      "execution_count": null,
      "outputs": []
    },
    {
      "cell_type": "code",
      "source": [
        "cnnModel_MNIST.add(keras.layers.Dense(10,activation=\"softmax\"))"
      ],
      "metadata": {
        "id": "Cfo2aXwF7g5A"
      },
      "execution_count": null,
      "outputs": []
    },
    {
      "cell_type": "code",
      "source": [
        "cnnModel_MNIST.summary()"
      ],
      "metadata": {
        "colab": {
          "base_uri": "https://localhost:8080/"
        },
        "id": "wHneyX5O8HYA",
        "outputId": "5608467c-dcd4-48ee-e498-abe29425975e"
      },
      "execution_count": null,
      "outputs": [
        {
          "output_type": "stream",
          "name": "stdout",
          "text": [
            "Model: \"sequential\"\n",
            "_________________________________________________________________\n",
            " Layer (type)                Output Shape              Param #   \n",
            "=================================================================\n",
            " conv2d (Conv2D)             (None, 26, 26, 32)        320       \n",
            "                                                                 \n",
            " conv2d_1 (Conv2D)           (None, 24, 24, 32)        9248      \n",
            "                                                                 \n",
            " conv2d_2 (Conv2D)           (None, 22, 22, 64)        18496     \n",
            "                                                                 \n",
            " max_pooling2d (MaxPooling2D  (None, 11, 11, 64)       0         \n",
            " )                                                               \n",
            "                                                                 \n",
            " dropout (Dropout)           (None, 11, 11, 64)        0         \n",
            "                                                                 \n",
            " flatten (Flatten)           (None, 7744)              0         \n",
            "                                                                 \n",
            " dense_1 (Dense)             (None, 128)               991360    \n",
            "                                                                 \n",
            " dropout_1 (Dropout)         (None, 128)               0         \n",
            "                                                                 \n",
            " dense_2 (Dense)             (None, 10)                1290      \n",
            "                                                                 \n",
            "=================================================================\n",
            "Total params: 1,020,714\n",
            "Trainable params: 1,020,714\n",
            "Non-trainable params: 0\n",
            "_________________________________________________________________\n"
          ]
        }
      ]
    },
    {
      "cell_type": "code",
      "source": [
        "cnnModel_MNIST.compile(loss='sparse_categorical_crossentropy',optimizer='adam',metrics=['accuracy'])"
      ],
      "metadata": {
        "id": "_YDmGWVj8chV"
      },
      "execution_count": null,
      "outputs": []
    },
    {
      "cell_type": "code",
      "source": [
        "cnnModel_MNIST.fit(x_train,y_train,epochs=1,batch_size=16)"
      ],
      "metadata": {
        "colab": {
          "base_uri": "https://localhost:8080/"
        },
        "id": "TIUehqQN9n21",
        "outputId": "c64e3acd-e49f-40d7-d56d-78f9d96b6ba1"
      },
      "execution_count": null,
      "outputs": [
        {
          "output_type": "stream",
          "name": "stdout",
          "text": [
            "3750/3750 [==============================] - 21s 3ms/step - loss: 0.1258 - accuracy: 0.9614\n"
          ]
        },
        {
          "output_type": "execute_result",
          "data": {
            "text/plain": [
              "<keras.callbacks.History at 0x7ff68647bb50>"
            ]
          },
          "metadata": {},
          "execution_count": 27
        }
      ]
    },
    {
      "cell_type": "code",
      "source": [
        "test_loss,test_accuracy = cnnModel_MNIST.evaluate(x_test,y_test)"
      ],
      "metadata": {
        "colab": {
          "base_uri": "https://localhost:8080/"
        },
        "id": "qQAqZn1s_NvV",
        "outputId": "c02893de-f1ed-44ec-af34-0245c94c7a10"
      },
      "execution_count": null,
      "outputs": [
        {
          "output_type": "stream",
          "name": "stdout",
          "text": [
            "313/313 [==============================] - 1s 3ms/step - loss: 0.0354 - accuracy: 0.9890\n"
          ]
        }
      ]
    }
  ]
}